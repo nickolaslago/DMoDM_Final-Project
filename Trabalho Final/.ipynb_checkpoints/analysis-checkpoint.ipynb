{
 "cells": [
  {
   "cell_type": "markdown",
   "metadata": {},
   "source": [
    "<h1>Final Project - MDdDM</h1>\n",
    "<h3>As the final project, we must create a segmentation aiming to target insurances customers based on the K-Means clustering method</h3>\n",
    "\n",
    "<p>Nickolas Lago - 03/11/2020 - First Commit - V_0.01</p>"
   ]
  },
  {
   "cell_type": "markdown",
   "metadata": {},
   "source": [
    "<h3>Project Description</h3>\n",
    "As a Data Mining/Analytic Consultant, you are asked develop a Customer Segmentation in such a way that it will be possible for the Marketing Department to better understand all the different Customers’ Profiles.\n",
    "\n",
    "You are expected to define, describe and explain the clusters you chose. Invest time in reasoning how you want to do your clustering, possible approaches, and advantages or disadvantages of different decisions. Simultaneous, you should express the marketing approach you recommend for each cluster. "
   ]
  },
  {
   "cell_type": "code",
   "execution_count": 1,
   "metadata": {},
   "outputs": [],
   "source": [
    "import numpy as np\n",
    "import pandas as pd\n",
    "import matplotlib.pyplot as plt\n",
    "import seaborn as sns"
   ]
  },
  {
   "cell_type": "markdown",
   "metadata": {},
   "source": [
    "<h2>Business Understanding</h2>"
   ]
  },
  {
   "cell_type": "markdown",
   "metadata": {},
   "source": [
    "<h2>Data Import and Understanding</h2>"
   ]
  },
  {
   "cell_type": "code",
   "execution_count": 2,
   "metadata": {},
   "outputs": [
    {
     "data": {
      "text/html": [
       "<div>\n",
       "<style scoped>\n",
       "    .dataframe tbody tr th:only-of-type {\n",
       "        vertical-align: middle;\n",
       "    }\n",
       "\n",
       "    .dataframe tbody tr th {\n",
       "        vertical-align: top;\n",
       "    }\n",
       "\n",
       "    .dataframe thead th {\n",
       "        text-align: right;\n",
       "    }\n",
       "</style>\n",
       "<table border=\"1\" class=\"dataframe\">\n",
       "  <thead>\n",
       "    <tr style=\"text-align: right;\">\n",
       "      <th></th>\n",
       "      <th>CustID</th>\n",
       "      <th>FirstPolYear</th>\n",
       "      <th>BirthYear</th>\n",
       "      <th>EducDeg</th>\n",
       "      <th>MonthSal</th>\n",
       "      <th>GeoLivArea</th>\n",
       "      <th>Children</th>\n",
       "      <th>CustMonVal</th>\n",
       "      <th>ClaimsRate</th>\n",
       "      <th>PremMotor</th>\n",
       "      <th>PremHousehold</th>\n",
       "      <th>PremHealth</th>\n",
       "      <th>PremLife</th>\n",
       "      <th>PremWork</th>\n",
       "    </tr>\n",
       "  </thead>\n",
       "  <tbody>\n",
       "    <tr>\n",
       "      <th>0</th>\n",
       "      <td>1.0</td>\n",
       "      <td>1985.0</td>\n",
       "      <td>1982.0</td>\n",
       "      <td>b'2 - High School'</td>\n",
       "      <td>2177.0</td>\n",
       "      <td>1.0</td>\n",
       "      <td>1.0</td>\n",
       "      <td>380.97</td>\n",
       "      <td>0.39</td>\n",
       "      <td>375.85</td>\n",
       "      <td>79.45</td>\n",
       "      <td>146.36</td>\n",
       "      <td>47.01</td>\n",
       "      <td>16.89</td>\n",
       "    </tr>\n",
       "    <tr>\n",
       "      <th>1</th>\n",
       "      <td>2.0</td>\n",
       "      <td>1981.0</td>\n",
       "      <td>1995.0</td>\n",
       "      <td>b'2 - High School'</td>\n",
       "      <td>677.0</td>\n",
       "      <td>4.0</td>\n",
       "      <td>1.0</td>\n",
       "      <td>-131.13</td>\n",
       "      <td>1.12</td>\n",
       "      <td>77.46</td>\n",
       "      <td>416.20</td>\n",
       "      <td>116.69</td>\n",
       "      <td>194.48</td>\n",
       "      <td>106.13</td>\n",
       "    </tr>\n",
       "    <tr>\n",
       "      <th>2</th>\n",
       "      <td>3.0</td>\n",
       "      <td>1991.0</td>\n",
       "      <td>1970.0</td>\n",
       "      <td>b'1 - Basic'</td>\n",
       "      <td>2277.0</td>\n",
       "      <td>3.0</td>\n",
       "      <td>0.0</td>\n",
       "      <td>504.67</td>\n",
       "      <td>0.28</td>\n",
       "      <td>206.15</td>\n",
       "      <td>224.50</td>\n",
       "      <td>124.58</td>\n",
       "      <td>86.35</td>\n",
       "      <td>99.02</td>\n",
       "    </tr>\n",
       "    <tr>\n",
       "      <th>3</th>\n",
       "      <td>4.0</td>\n",
       "      <td>1990.0</td>\n",
       "      <td>1981.0</td>\n",
       "      <td>b'3 - BSc/MSc'</td>\n",
       "      <td>1099.0</td>\n",
       "      <td>4.0</td>\n",
       "      <td>1.0</td>\n",
       "      <td>-16.99</td>\n",
       "      <td>0.99</td>\n",
       "      <td>182.48</td>\n",
       "      <td>43.35</td>\n",
       "      <td>311.17</td>\n",
       "      <td>35.34</td>\n",
       "      <td>28.34</td>\n",
       "    </tr>\n",
       "    <tr>\n",
       "      <th>4</th>\n",
       "      <td>5.0</td>\n",
       "      <td>1986.0</td>\n",
       "      <td>1973.0</td>\n",
       "      <td>b'3 - BSc/MSc'</td>\n",
       "      <td>1763.0</td>\n",
       "      <td>4.0</td>\n",
       "      <td>1.0</td>\n",
       "      <td>35.23</td>\n",
       "      <td>0.90</td>\n",
       "      <td>338.62</td>\n",
       "      <td>47.80</td>\n",
       "      <td>182.59</td>\n",
       "      <td>18.78</td>\n",
       "      <td>41.45</td>\n",
       "    </tr>\n",
       "  </tbody>\n",
       "</table>\n",
       "</div>"
      ],
      "text/plain": [
       "   CustID  FirstPolYear  BirthYear             EducDeg  MonthSal  GeoLivArea  \\\n",
       "0     1.0        1985.0     1982.0  b'2 - High School'    2177.0         1.0   \n",
       "1     2.0        1981.0     1995.0  b'2 - High School'     677.0         4.0   \n",
       "2     3.0        1991.0     1970.0        b'1 - Basic'    2277.0         3.0   \n",
       "3     4.0        1990.0     1981.0      b'3 - BSc/MSc'    1099.0         4.0   \n",
       "4     5.0        1986.0     1973.0      b'3 - BSc/MSc'    1763.0         4.0   \n",
       "\n",
       "   Children  CustMonVal  ClaimsRate  PremMotor  PremHousehold  PremHealth  \\\n",
       "0       1.0      380.97        0.39     375.85          79.45      146.36   \n",
       "1       1.0     -131.13        1.12      77.46         416.20      116.69   \n",
       "2       0.0      504.67        0.28     206.15         224.50      124.58   \n",
       "3       1.0      -16.99        0.99     182.48          43.35      311.17   \n",
       "4       1.0       35.23        0.90     338.62          47.80      182.59   \n",
       "\n",
       "   PremLife  PremWork  \n",
       "0     47.01     16.89  \n",
       "1    194.48    106.13  \n",
       "2     86.35     99.02  \n",
       "3     35.34     28.34  \n",
       "4     18.78     41.45  "
      ]
     },
     "execution_count": 2,
     "metadata": {},
     "output_type": "execute_result"
    }
   ],
   "source": [
    "#First things first, let's import our .sas7bdat file to a Pandas DataFrame and see its first records.\n",
    "df = pd.read_sas('a2z_insurance.sas7bdat')\n",
    "\n",
    "df.head()"
   ]
  },
  {
   "cell_type": "code",
   "execution_count": 3,
   "metadata": {},
   "outputs": [
    {
     "name": "stdout",
     "output_type": "stream",
     "text": [
      "<class 'pandas.core.frame.DataFrame'>\n",
      "RangeIndex: 10296 entries, 0 to 10295\n",
      "Data columns (total 14 columns):\n",
      " #   Column         Non-Null Count  Dtype  \n",
      "---  ------         --------------  -----  \n",
      " 0   CustID         10296 non-null  float64\n",
      " 1   FirstPolYear   10266 non-null  float64\n",
      " 2   BirthYear      10279 non-null  float64\n",
      " 3   EducDeg        10279 non-null  object \n",
      " 4   MonthSal       10260 non-null  float64\n",
      " 5   GeoLivArea     10295 non-null  float64\n",
      " 6   Children       10275 non-null  float64\n",
      " 7   CustMonVal     10296 non-null  float64\n",
      " 8   ClaimsRate     10296 non-null  float64\n",
      " 9   PremMotor      10262 non-null  float64\n",
      " 10  PremHousehold  10296 non-null  float64\n",
      " 11  PremHealth     10253 non-null  float64\n",
      " 12  PremLife       10192 non-null  float64\n",
      " 13  PremWork       10210 non-null  float64\n",
      "dtypes: float64(13), object(1)\n",
      "memory usage: 1.1+ MB\n"
     ]
    }
   ],
   "source": [
    "#At first, we can understand that the DataFrame has mainly numeric values, basides the column for EducDeg, let's check for the DataFrame .info() to confirm this insight.\n",
    "df.info()"
   ]
  },
  {
   "cell_type": "code",
   "execution_count": 4,
   "metadata": {},
   "outputs": [
    {
     "data": {
      "text/plain": [
       "array([b'2 - High School', b'1 - Basic', b'3 - BSc/MSc', b'4 - PhD', nan],\n",
       "      dtype=object)"
      ]
     },
     "execution_count": 4,
     "metadata": {},
     "output_type": "execute_result"
    }
   ],
   "source": [
    "#Once we know that EducDeg is the only categorical value, let's check if there is no duplicated or miss writed values inside the DataFrame\n",
    "df['EducDeg'].unique()"
   ]
  },
  {
   "cell_type": "code",
   "execution_count": 5,
   "metadata": {},
   "outputs": [
    {
     "data": {
      "text/html": [
       "<div>\n",
       "<style scoped>\n",
       "    .dataframe tbody tr th:only-of-type {\n",
       "        vertical-align: middle;\n",
       "    }\n",
       "\n",
       "    .dataframe tbody tr th {\n",
       "        vertical-align: top;\n",
       "    }\n",
       "\n",
       "    .dataframe thead th {\n",
       "        text-align: right;\n",
       "    }\n",
       "</style>\n",
       "<table border=\"1\" class=\"dataframe\">\n",
       "  <thead>\n",
       "    <tr style=\"text-align: right;\">\n",
       "      <th></th>\n",
       "      <th>count</th>\n",
       "      <th>unique</th>\n",
       "      <th>top</th>\n",
       "      <th>freq</th>\n",
       "      <th>mean</th>\n",
       "      <th>std</th>\n",
       "      <th>min</th>\n",
       "      <th>25%</th>\n",
       "      <th>50%</th>\n",
       "      <th>75%</th>\n",
       "      <th>max</th>\n",
       "    </tr>\n",
       "  </thead>\n",
       "  <tbody>\n",
       "    <tr>\n",
       "      <th>CustID</th>\n",
       "      <td>10296</td>\n",
       "      <td>NaN</td>\n",
       "      <td>NaN</td>\n",
       "      <td>NaN</td>\n",
       "      <td>5148.5</td>\n",
       "      <td>2972.34</td>\n",
       "      <td>1</td>\n",
       "      <td>2574.75</td>\n",
       "      <td>5148.5</td>\n",
       "      <td>7722.25</td>\n",
       "      <td>10296</td>\n",
       "    </tr>\n",
       "    <tr>\n",
       "      <th>FirstPolYear</th>\n",
       "      <td>10266</td>\n",
       "      <td>NaN</td>\n",
       "      <td>NaN</td>\n",
       "      <td>NaN</td>\n",
       "      <td>1991.06</td>\n",
       "      <td>511.268</td>\n",
       "      <td>1974</td>\n",
       "      <td>1980</td>\n",
       "      <td>1986</td>\n",
       "      <td>1992</td>\n",
       "      <td>53784</td>\n",
       "    </tr>\n",
       "    <tr>\n",
       "      <th>BirthYear</th>\n",
       "      <td>10279</td>\n",
       "      <td>NaN</td>\n",
       "      <td>NaN</td>\n",
       "      <td>NaN</td>\n",
       "      <td>1968.01</td>\n",
       "      <td>19.7095</td>\n",
       "      <td>1028</td>\n",
       "      <td>1953</td>\n",
       "      <td>1968</td>\n",
       "      <td>1983</td>\n",
       "      <td>2001</td>\n",
       "    </tr>\n",
       "    <tr>\n",
       "      <th>EducDeg</th>\n",
       "      <td>10279</td>\n",
       "      <td>4</td>\n",
       "      <td>b'3 - BSc/MSc'</td>\n",
       "      <td>4799</td>\n",
       "      <td>NaN</td>\n",
       "      <td>NaN</td>\n",
       "      <td>NaN</td>\n",
       "      <td>NaN</td>\n",
       "      <td>NaN</td>\n",
       "      <td>NaN</td>\n",
       "      <td>NaN</td>\n",
       "    </tr>\n",
       "    <tr>\n",
       "      <th>MonthSal</th>\n",
       "      <td>10260</td>\n",
       "      <td>NaN</td>\n",
       "      <td>NaN</td>\n",
       "      <td>NaN</td>\n",
       "      <td>2506.67</td>\n",
       "      <td>1157.45</td>\n",
       "      <td>333</td>\n",
       "      <td>1706</td>\n",
       "      <td>2501.5</td>\n",
       "      <td>3290.25</td>\n",
       "      <td>55215</td>\n",
       "    </tr>\n",
       "    <tr>\n",
       "      <th>GeoLivArea</th>\n",
       "      <td>10295</td>\n",
       "      <td>NaN</td>\n",
       "      <td>NaN</td>\n",
       "      <td>NaN</td>\n",
       "      <td>2.70986</td>\n",
       "      <td>1.26629</td>\n",
       "      <td>1</td>\n",
       "      <td>1</td>\n",
       "      <td>3</td>\n",
       "      <td>4</td>\n",
       "      <td>4</td>\n",
       "    </tr>\n",
       "    <tr>\n",
       "      <th>Children</th>\n",
       "      <td>10275</td>\n",
       "      <td>NaN</td>\n",
       "      <td>NaN</td>\n",
       "      <td>NaN</td>\n",
       "      <td>0.706764</td>\n",
       "      <td>0.455268</td>\n",
       "      <td>0</td>\n",
       "      <td>0</td>\n",
       "      <td>1</td>\n",
       "      <td>1</td>\n",
       "      <td>1</td>\n",
       "    </tr>\n",
       "    <tr>\n",
       "      <th>CustMonVal</th>\n",
       "      <td>10296</td>\n",
       "      <td>NaN</td>\n",
       "      <td>NaN</td>\n",
       "      <td>NaN</td>\n",
       "      <td>177.893</td>\n",
       "      <td>1945.81</td>\n",
       "      <td>-165680</td>\n",
       "      <td>-9.44</td>\n",
       "      <td>186.87</td>\n",
       "      <td>399.778</td>\n",
       "      <td>11875.9</td>\n",
       "    </tr>\n",
       "    <tr>\n",
       "      <th>ClaimsRate</th>\n",
       "      <td>10296</td>\n",
       "      <td>NaN</td>\n",
       "      <td>NaN</td>\n",
       "      <td>NaN</td>\n",
       "      <td>0.742772</td>\n",
       "      <td>2.91696</td>\n",
       "      <td>0</td>\n",
       "      <td>0.39</td>\n",
       "      <td>0.72</td>\n",
       "      <td>0.98</td>\n",
       "      <td>256.2</td>\n",
       "    </tr>\n",
       "    <tr>\n",
       "      <th>PremMotor</th>\n",
       "      <td>10262</td>\n",
       "      <td>NaN</td>\n",
       "      <td>NaN</td>\n",
       "      <td>NaN</td>\n",
       "      <td>300.47</td>\n",
       "      <td>211.915</td>\n",
       "      <td>-4.11</td>\n",
       "      <td>190.59</td>\n",
       "      <td>298.61</td>\n",
       "      <td>408.3</td>\n",
       "      <td>11604.4</td>\n",
       "    </tr>\n",
       "    <tr>\n",
       "      <th>PremHousehold</th>\n",
       "      <td>10296</td>\n",
       "      <td>NaN</td>\n",
       "      <td>NaN</td>\n",
       "      <td>NaN</td>\n",
       "      <td>210.431</td>\n",
       "      <td>352.596</td>\n",
       "      <td>-75</td>\n",
       "      <td>49.45</td>\n",
       "      <td>132.8</td>\n",
       "      <td>290.05</td>\n",
       "      <td>25048.8</td>\n",
       "    </tr>\n",
       "    <tr>\n",
       "      <th>PremHealth</th>\n",
       "      <td>10253</td>\n",
       "      <td>NaN</td>\n",
       "      <td>NaN</td>\n",
       "      <td>NaN</td>\n",
       "      <td>171.581</td>\n",
       "      <td>296.406</td>\n",
       "      <td>-2.11</td>\n",
       "      <td>111.8</td>\n",
       "      <td>162.81</td>\n",
       "      <td>219.82</td>\n",
       "      <td>28272</td>\n",
       "    </tr>\n",
       "    <tr>\n",
       "      <th>PremLife</th>\n",
       "      <td>10192</td>\n",
       "      <td>NaN</td>\n",
       "      <td>NaN</td>\n",
       "      <td>NaN</td>\n",
       "      <td>41.8558</td>\n",
       "      <td>47.4806</td>\n",
       "      <td>-7</td>\n",
       "      <td>9.89</td>\n",
       "      <td>25.56</td>\n",
       "      <td>57.79</td>\n",
       "      <td>398.3</td>\n",
       "    </tr>\n",
       "    <tr>\n",
       "      <th>PremWork</th>\n",
       "      <td>10210</td>\n",
       "      <td>NaN</td>\n",
       "      <td>NaN</td>\n",
       "      <td>NaN</td>\n",
       "      <td>41.2775</td>\n",
       "      <td>51.5136</td>\n",
       "      <td>-12</td>\n",
       "      <td>10.67</td>\n",
       "      <td>25.67</td>\n",
       "      <td>56.79</td>\n",
       "      <td>1988.7</td>\n",
       "    </tr>\n",
       "  </tbody>\n",
       "</table>\n",
       "</div>"
      ],
      "text/plain": [
       "               count unique             top  freq      mean       std     min  \\\n",
       "CustID         10296    NaN             NaN   NaN    5148.5   2972.34       1   \n",
       "FirstPolYear   10266    NaN             NaN   NaN   1991.06   511.268    1974   \n",
       "BirthYear      10279    NaN             NaN   NaN   1968.01   19.7095    1028   \n",
       "EducDeg        10279      4  b'3 - BSc/MSc'  4799       NaN       NaN     NaN   \n",
       "MonthSal       10260    NaN             NaN   NaN   2506.67   1157.45     333   \n",
       "GeoLivArea     10295    NaN             NaN   NaN   2.70986   1.26629       1   \n",
       "Children       10275    NaN             NaN   NaN  0.706764  0.455268       0   \n",
       "CustMonVal     10296    NaN             NaN   NaN   177.893   1945.81 -165680   \n",
       "ClaimsRate     10296    NaN             NaN   NaN  0.742772   2.91696       0   \n",
       "PremMotor      10262    NaN             NaN   NaN    300.47   211.915   -4.11   \n",
       "PremHousehold  10296    NaN             NaN   NaN   210.431   352.596     -75   \n",
       "PremHealth     10253    NaN             NaN   NaN   171.581   296.406   -2.11   \n",
       "PremLife       10192    NaN             NaN   NaN   41.8558   47.4806      -7   \n",
       "PremWork       10210    NaN             NaN   NaN   41.2775   51.5136     -12   \n",
       "\n",
       "                   25%     50%      75%      max  \n",
       "CustID         2574.75  5148.5  7722.25    10296  \n",
       "FirstPolYear      1980    1986     1992    53784  \n",
       "BirthYear         1953    1968     1983     2001  \n",
       "EducDeg            NaN     NaN      NaN      NaN  \n",
       "MonthSal          1706  2501.5  3290.25    55215  \n",
       "GeoLivArea           1       3        4        4  \n",
       "Children             0       1        1        1  \n",
       "CustMonVal       -9.44  186.87  399.778  11875.9  \n",
       "ClaimsRate        0.39    0.72     0.98    256.2  \n",
       "PremMotor       190.59  298.61    408.3  11604.4  \n",
       "PremHousehold    49.45   132.8   290.05  25048.8  \n",
       "PremHealth       111.8  162.81   219.82    28272  \n",
       "PremLife          9.89   25.56    57.79    398.3  \n",
       "PremWork         10.67   25.67    56.79   1988.7  "
      ]
     },
     "execution_count": 5,
     "metadata": {},
     "output_type": "execute_result"
    }
   ],
   "source": [
    "# Summary statistics for all variables\n",
    "summary=df.describe(include='all')\n",
    "summary=summary.transpose()\n",
    "summary.head(len(summary))"
   ]
  },
  {
   "cell_type": "code",
   "execution_count": 6,
   "metadata": {},
   "outputs": [
    {
     "name": "stdout",
     "output_type": "stream",
     "text": [
      "CustID             0\n",
      "FirstPolYear      30\n",
      "BirthYear         17\n",
      "EducDeg           17\n",
      "MonthSal          36\n",
      "GeoLivArea         1\n",
      "Children          21\n",
      "CustMonVal         0\n",
      "ClaimsRate         0\n",
      "PremMotor         34\n",
      "PremHousehold      0\n",
      "PremHealth        43\n",
      "PremLife         104\n",
      "PremWork          86\n",
      "dtype: int64\n"
     ]
    }
   ],
   "source": [
    "# Check missing values\n",
    "print(df.isnull().sum())"
   ]
  },
  {
   "cell_type": "markdown",
   "metadata": {},
   "source": [
    "<h2>Finding and Dealing with Outliers</h2>\n",
    "\n",
    "Before removing NaN values, we will deal with the Outliers in order to be able to use the data base mean later without overestimating the values.\n",
    "\n",
    "Source: https://towardsdatascience.com/ways-to-detect-and-remove-the-outliers-404d16608dba"
   ]
  },
  {
   "cell_type": "code",
   "execution_count": 7,
   "metadata": {},
   "outputs": [
    {
     "data": {
      "image/png": "[encoded data removed]",
      "text/plain": [
       "<Figure size 2160x720 with 3 Axes>"
      ]
     },
     "metadata": {
      "needs_background": "light"
     },
     "output_type": "display_data"
    }
   ],
   "source": [
    "#Visualizing Outliers Box Plots\n",
    "\n",
    "plt.figure(figsize=(30,10))\n",
    "\n",
    "plt.subplot(1,3,1)\n",
    "sns.boxplot(y='FirstPolYear', data=df)\n",
    "plt.title('Outliers for \"First Policy Year\"')\n",
    "\n",
    "plt.subplot(1,3,2)\n",
    "sns.boxplot(y='BirthYear', data=df)\n",
    "plt.title('Outliers for \"Birthay Year\"')\n",
    "\n",
    "plt.subplot(1,3,3)\n",
    "sns.boxplot(y='MonthSal', data=df)\n",
    "plt.title('Outliers for \"Monthly Salary\"')\n",
    "\n",
    "plt.show()"
   ]
  },
  {
   "cell_type": "code",
   "execution_count": 8,
   "metadata": {},
   "outputs": [
    {
     "data": {
      "image/png": "[encoded data removed]",
      "text/plain": [
       "<Figure size 2160x720 with 3 Axes>"
      ]
     },
     "metadata": {
      "needs_background": "light"
     },
     "output_type": "display_data"
    }
   ],
   "source": [
    "plt.figure(figsize=(30,10))\n",
    "\n",
    "plt.subplot(1,3,1)\n",
    "sns.scatterplot(data=df, x='CustMonVal', y='FirstPolYear')\n",
    "plt.title('Identifying Outliers in First Policy Year')\n",
    "\n",
    "plt.subplot(1,3,2)\n",
    "sns.scatterplot(data=df, x='CustMonVal', y='BirthYear')\n",
    "plt.title('Identifying Outliers in Birth Year')\n",
    "\n",
    "plt.subplot(1,3,3)\n",
    "sns.scatterplot(data=df, x='CustMonVal', y='MonthSal')\n",
    "plt.title('Identifying Outliers in First Policy Year')\n",
    "\n",
    "plt.show()"
   ]
  },
  {
   "cell_type": "markdown",
   "metadata": {},
   "source": [
    "<h3>Escrever algo sobre identificação dos outliers e remoção deles. São pouquissimos, em firstYearPol e birthYea são provavelmente errados e em salário não vale a pena tratar no modelo, tais clientes requerem melhor atenção<h3>\n",
    "<h3>Também dá pra identificar no scatterplot que há um grande gap em CustMonVal, tal cliente também pode ser tratado a parte<h3>"
   ]
  },
  {
   "cell_type": "code",
   "execution_count": 9,
   "metadata": {},
   "outputs": [
    {
     "data": {
      "text/plain": [
       "count    10260.000000\n",
       "mean      2506.667057\n",
       "std       1157.449634\n",
       "min        333.000000\n",
       "2%         720.000000\n",
       "15%       1372.850000\n",
       "25%       1706.000000\n",
       "50%       2501.500000\n",
       "70%       3129.000000\n",
       "90%       3823.000000\n",
       "max      55215.000000\n",
       "Name: MonthSal, dtype: float64"
      ]
     },
     "execution_count": 9,
     "metadata": {},
     "output_type": "execute_result"
    }
   ],
   "source": [
    "#Further analysis on monthSalary\n",
    "\n",
    "df['MonthSal'].describe(percentiles=[0.02,0.15,0.25,0.5,0.7,0.9])"
   ]
  },
  {
   "cell_type": "code",
   "execution_count": 11,
   "metadata": {},
   "outputs": [
    {
     "ename": "AttributeError",
     "evalue": "module 'seaborn' has no attribute 'histplot'",
     "output_type": "error",
     "traceback": [
      "\u001b[0;31m---------------------------------------------------------------------------\u001b[0m",
      "\u001b[0;31mAttributeError\u001b[0m                            Traceback (most recent call last)",
      "\u001b[0;32m<ipython-input-11-78de8ab078e6>\u001b[0m in \u001b[0;36m<module>\u001b[0;34m\u001b[0m\n\u001b[0;32m----> 1\u001b[0;31m \u001b[0msns\u001b[0m\u001b[0;34m.\u001b[0m\u001b[0mhistplot\u001b[0m\u001b[0;34m(\u001b[0m\u001b[0mdata\u001b[0m\u001b[0;34m=\u001b[0m\u001b[0mdf\u001b[0m\u001b[0;34m,\u001b[0m \u001b[0mx\u001b[0m\u001b[0;34m=\u001b[0m\u001b[0;34m'MonthSal'\u001b[0m\u001b[0;34m)\u001b[0m\u001b[0;34m\u001b[0m\u001b[0;34m\u001b[0m\u001b[0m\n\u001b[0m",
      "\u001b[0;31mAttributeError\u001b[0m: module 'seaborn' has no attribute 'histplot'"
     ]
    }
   ],
   "source": [
    "sns.histplot(data=df, x='MonthSal')"
   ]
  },
  {
   "cell_type": "code",
   "execution_count": 32,
   "metadata": {},
   "outputs": [
    {
     "data": {
      "text/html": [
       "<div>\n",
       "<style scoped>\n",
       "    .dataframe tbody tr th:only-of-type {\n",
       "        vertical-align: middle;\n",
       "    }\n",
       "\n",
       "    .dataframe tbody tr th {\n",
       "        vertical-align: top;\n",
       "    }\n",
       "\n",
       "    .dataframe thead th {\n",
       "        text-align: right;\n",
       "    }\n",
       "</style>\n",
       "<table border=\"1\" class=\"dataframe\">\n",
       "  <thead>\n",
       "    <tr style=\"text-align: right;\">\n",
       "      <th></th>\n",
       "      <th>count</th>\n",
       "      <th>mean</th>\n",
       "      <th>std</th>\n",
       "      <th>min</th>\n",
       "      <th>25%</th>\n",
       "      <th>50%</th>\n",
       "      <th>75%</th>\n",
       "      <th>max</th>\n",
       "    </tr>\n",
       "  </thead>\n",
       "  <tbody>\n",
       "    <tr>\n",
       "      <th>FirstPolYear</th>\n",
       "      <td>10266.0</td>\n",
       "      <td>1991.062634</td>\n",
       "      <td>511.267913</td>\n",
       "      <td>1974.0</td>\n",
       "      <td>1980.0</td>\n",
       "      <td>1986.0</td>\n",
       "      <td>1992.00</td>\n",
       "      <td>53784.0</td>\n",
       "    </tr>\n",
       "    <tr>\n",
       "      <th>BirthYear</th>\n",
       "      <td>10279.0</td>\n",
       "      <td>1968.007783</td>\n",
       "      <td>19.709476</td>\n",
       "      <td>1028.0</td>\n",
       "      <td>1953.0</td>\n",
       "      <td>1968.0</td>\n",
       "      <td>1983.00</td>\n",
       "      <td>2001.0</td>\n",
       "    </tr>\n",
       "    <tr>\n",
       "      <th>MonthSal</th>\n",
       "      <td>10260.0</td>\n",
       "      <td>2506.667057</td>\n",
       "      <td>1157.449634</td>\n",
       "      <td>333.0</td>\n",
       "      <td>1706.0</td>\n",
       "      <td>2501.5</td>\n",
       "      <td>3290.25</td>\n",
       "      <td>55215.0</td>\n",
       "    </tr>\n",
       "  </tbody>\n",
       "</table>\n",
       "</div>"
      ],
      "text/plain": [
       "                count         mean          std     min     25%     50%  \\\n",
       "FirstPolYear  10266.0  1991.062634   511.267913  1974.0  1980.0  1986.0   \n",
       "BirthYear     10279.0  1968.007783    19.709476  1028.0  1953.0  1968.0   \n",
       "MonthSal      10260.0  2506.667057  1157.449634   333.0  1706.0  2501.5   \n",
       "\n",
       "                  75%      max  \n",
       "FirstPolYear  1992.00  53784.0  \n",
       "BirthYear     1983.00   2001.0  \n",
       "MonthSal      3290.25  55215.0  "
      ]
     },
     "execution_count": 32,
     "metadata": {},
     "output_type": "execute_result"
    }
   ],
   "source": [
    "#See where we find the outliers from the three colums selected\n",
    "out_cols = ['FirstPolYear', 'BirthYear', 'MonthSal']\n",
    "\n",
    "outliers = df[out_cols].describe()\n",
    "outliers = outliers.transpose()\n",
    "outliers.head(len(summary))"
   ]
  },
  {
   "cell_type": "markdown",
   "metadata": {},
   "source": [
    "<h3>Outliers Analysis</h3>\n",
    "\n",
    "By analysing the three colums we could see that <b>FirstPolYear</b> and <b>Birthday Year</b> had outliers that were probably miss filling values. On the other hand, although it were detected outliers in <b>MonthSal</b>, we opted to not deleted in order to understand the true value of these users."
   ]
  },
  {
   "cell_type": "code",
   "execution_count": 117,
   "metadata": {},
   "outputs": [
    {
     "data": {
      "text/plain": [
       "b'3 - BSc/MSc'        4799\n",
       "b'2 - High School'    3510\n",
       "b'1 - Basic'          1272\n",
       "b'4 - PhD'             698\n",
       "Name: EducDeg, dtype: int64"
      ]
     },
     "execution_count": 117,
     "metadata": {},
     "output_type": "execute_result"
    }
   ],
   "source": [
    "df['EducDeg'].value_counts()"
   ]
  },
  {
   "cell_type": "code",
   "execution_count": 119,
   "metadata": {},
   "outputs": [
    {
     "name": "stdout",
     "output_type": "stream",
     "text": [
      "EducDeg\n",
      "b'1 - Basic'          2.714623\n",
      "b'2 - High School'    2.736752\n",
      "b'3 - BSc/MSc'        2.697229\n",
      "b'4 - PhD'            2.657102\n",
      "Name: GeoLivArea, dtype: float64\n"
     ]
    }
   ],
   "source": [
    "#Trying to see if we could fill the missing values with some mean from another dimension\n",
    "print(df.groupby(['EducDeg'])['GeoLivArea'].mean())"
   ]
  },
  {
   "cell_type": "markdown",
   "metadata": {},
   "source": [
    "<h2>Dealing with NaN Values</h2>"
   ]
  },
  {
   "cell_type": "code",
   "execution_count": null,
   "metadata": {},
   "outputs": [],
   "source": [
    "#Deletando as rows que tem valores faltando para Children, EducDeg e GeoLivArea\n",
    "cols = ['GeoLivArea','Children','EducDeg']\n",
    "df_test = df.dropna(axis=0, how='any',subset=cols)\n",
    "\n",
    "print(df_test.isna().sum())\n",
    "print(df_test.shape)"
   ]
  },
  {
   "cell_type": "markdown",
   "metadata": {},
   "source": [
    "By dropping the NaN values in the columns ('GeoLivArea','Children','EducDeg') we will loose only 0,4% of our Data Base. It could be useful to use the model to cluster the other 97% and deal with the rest \n",
    "\n",
    "Support links:\n",
    "\n",
    "http://towardsdatascience.com/handling-missing-values-with-pandas-b876bf6f008f\n",
    "\n",
    "https://pandas.pydata.org/pandas-docs/stable/reference/api/pandas.DataFrame.dropna.html"
   ]
  },
  {
   "cell_type": "code",
   "execution_count": 125,
   "metadata": {},
   "outputs": [
    {
     "data": {
      "text/plain": [
       "count    10223.000000\n",
       "mean      2506.062213\n",
       "std       1158.155554\n",
       "min        333.000000\n",
       "10%       1175.000000\n",
       "25%       1705.000000\n",
       "50%       2500.000000\n",
       "75%       3290.000000\n",
       "90%       3823.000000\n",
       "99.9%     4866.336000\n",
       "max      55215.000000\n",
       "Name: MonthSal, dtype: float64"
      ]
     },
     "execution_count": 125,
     "metadata": {},
     "output_type": "execute_result"
    }
   ],
   "source": [
    "df_test['MonthSal'].describe(percentiles=[0.1,0.25,0.5,0.75,0.9,0.999])"
   ]
  },
  {
   "cell_type": "code",
   "execution_count": 126,
   "metadata": {},
   "outputs": [
    {
     "data": {
      "text/plain": [
       "2506.0622126577327"
      ]
     },
     "execution_count": 126,
     "metadata": {},
     "output_type": "execute_result"
    }
   ],
   "source": [
    "df_test['MonthSal'].mean()"
   ]
  },
  {
   "cell_type": "code",
   "execution_count": null,
   "metadata": {},
   "outputs": [],
   "source": [
    "#Now, lets try to fill the other missing values with their means\n",
    "\n",
    "#For salary and ages, we will use the means for each column, and for the First Policy Year, we will use the value just before to fill the \n",
    "\n",
    "mean = round(df_test['MonthSal'].mean())\n",
    "print(mean)\n",
    "df_test['MonthSal'].fillna(mean, inplace=True)"
   ]
  },
  {
   "cell_type": "code",
   "execution_count": null,
   "metadata": {},
   "outputs": [],
   "source": [
    "df_test.isna().sum()"
   ]
  },
  {
   "cell_type": "code",
   "execution_count": null,
   "metadata": {},
   "outputs": [],
   "source": [
    "#Replacing bday year by the round of the bday year mean.\n",
    "bDay_mean = round(df_test['BirthYear'].mean())\n",
    "print(bDay_mean)\n",
    "df_test['BirthYear'].fillna(bDay_mean, inplace=True)\n",
    "print(df_test.isna().sum())"
   ]
  },
  {
   "cell_type": "code",
   "execution_count": null,
   "metadata": {},
   "outputs": [],
   "source": [
    "#Found an error for the First Policy Year -> Outlier\n",
    "df_test['FirstPolYear'].describe(percentiles=[0.1,0.25,0.5,0.75,0.9,0.995])"
   ]
  },
  {
   "cell_type": "code",
   "execution_count": null,
   "metadata": {},
   "outputs": [],
   "source": []
  }
 ],
 "metadata": {
  "kernelspec": {
   "display_name": "Python 3",
   "language": "python",
   "name": "python3"
  },
  "language_info": {
   "codemirror_mode": {
    "name": "ipython",
    "version": 3
   },
   "file_extension": ".py",
   "mimetype": "text/x-python",
   "name": "python",
   "nbconvert_exporter": "python",
   "pygments_lexer": "ipython3",
   "version": "3.7.6"
  }
 },
 "nbformat": 4,
 "nbformat_minor": 2
}

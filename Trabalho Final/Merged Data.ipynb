{
 "metadata": {
  "language_info": {
   "codemirror_mode": {
    "name": "ipython",
    "version": 3
   },
   "file_extension": ".py",
   "mimetype": "text/x-python",
   "name": "python",
   "nbconvert_exporter": "python",
   "pygments_lexer": "ipython3",
   "version": "3.7.6-final"
  },
  "orig_nbformat": 2,
  "kernelspec": {
   "name": "python3",
   "display_name": "Python 3"
  }
 },
 "nbformat": 4,
 "nbformat_minor": 2,
 "cells": [
  {
   "cell_type": "code",
   "execution_count": 1,
   "metadata": {},
   "outputs": [],
   "source": [
    "import pandas as pd"
   ]
  },
  {
   "cell_type": "code",
   "execution_count": 3,
   "metadata": {},
   "outputs": [
    {
     "output_type": "stream",
     "name": "stdout",
     "text": [
      "(9000, 18)\n(10296, 14)\n"
     ]
    }
   ],
   "source": [
    "customer_df = pd.read_sas('Customer_Segmentation_Data.sas7bdat')\n",
    "value_df = pd.read_sas('a2z_insurance.sas7bdat')\n",
    "\n",
    "print(customer_df.shape)\n",
    "print(value_df.shape)"
   ]
  },
  {
   "cell_type": "code",
   "execution_count": 4,
   "metadata": {},
   "outputs": [
    {
     "output_type": "execute_result",
     "data": {
      "text/plain": [
       "    Custid     Age   Income   Frq   Rcn     Mnt  Clothes  Kitchen  \\\n",
       "0  10622.0  1951.0  95964.0  38.0  83.0  1603.0     69.0      1.0   \n",
       "1   3968.0  1937.0  97407.0  27.0  71.0  1139.0     52.0      0.0   \n",
       "2   9731.0  1978.0  73509.0  25.0  97.0   768.0     49.0      6.0   \n",
       "3   9970.0  1957.0  75733.0  20.0  74.0   597.0     68.0      5.0   \n",
       "4   4732.0  1960.0  84938.0  24.0  78.0   704.0     95.0      0.0   \n",
       "\n",
       "   SmallAppliances  Toys  HouseKeeping      Education Marital_Status Gender  \\\n",
       "0             28.0   1.0           1.0  b'Graduation'    b'Whatever'   b'M'   \n",
       "1             41.0   1.0           6.0      b'Master'    b'Whatever'   b'F'   \n",
       "2             29.0   8.0           7.0      b'Master'    b'Whatever'   b'M'   \n",
       "3             15.0   4.0           8.0      b'Master'    b'Whatever'   b'M'   \n",
       "4              4.0   0.0           1.0      b'Master'    b'Whatever'   b'M'   \n",
       "\n",
       "   Dependents  PerNetPurch  PerCatPurch  Recomendation  \n",
       "0         1.0         34.0         66.0            5.0  \n",
       "1         0.0         20.0         80.0            4.0  \n",
       "2         1.0         52.0         48.0            3.0  \n",
       "3         1.0         30.0         70.0            3.0  \n",
       "4         1.0         56.0         44.0            3.0  "
      ],
      "text/html": "<div>\n<style scoped>\n    .dataframe tbody tr th:only-of-type {\n        vertical-align: middle;\n    }\n\n    .dataframe tbody tr th {\n        vertical-align: top;\n    }\n\n    .dataframe thead th {\n        text-align: right;\n    }\n</style>\n<table border=\"1\" class=\"dataframe\">\n  <thead>\n    <tr style=\"text-align: right;\">\n      <th></th>\n      <th>Custid</th>\n      <th>Age</th>\n      <th>Income</th>\n      <th>Frq</th>\n      <th>Rcn</th>\n      <th>Mnt</th>\n      <th>Clothes</th>\n      <th>Kitchen</th>\n      <th>SmallAppliances</th>\n      <th>Toys</th>\n      <th>HouseKeeping</th>\n      <th>Education</th>\n      <th>Marital_Status</th>\n      <th>Gender</th>\n      <th>Dependents</th>\n      <th>PerNetPurch</th>\n      <th>PerCatPurch</th>\n      <th>Recomendation</th>\n    </tr>\n  </thead>\n  <tbody>\n    <tr>\n      <th>0</th>\n      <td>10622.0</td>\n      <td>1951.0</td>\n      <td>95964.0</td>\n      <td>38.0</td>\n      <td>83.0</td>\n      <td>1603.0</td>\n      <td>69.0</td>\n      <td>1.0</td>\n      <td>28.0</td>\n      <td>1.0</td>\n      <td>1.0</td>\n      <td>b'Graduation'</td>\n      <td>b'Whatever'</td>\n      <td>b'M'</td>\n      <td>1.0</td>\n      <td>34.0</td>\n      <td>66.0</td>\n      <td>5.0</td>\n    </tr>\n    <tr>\n      <th>1</th>\n      <td>3968.0</td>\n      <td>1937.0</td>\n      <td>97407.0</td>\n      <td>27.0</td>\n      <td>71.0</td>\n      <td>1139.0</td>\n      <td>52.0</td>\n      <td>0.0</td>\n      <td>41.0</td>\n      <td>1.0</td>\n      <td>6.0</td>\n      <td>b'Master'</td>\n      <td>b'Whatever'</td>\n      <td>b'F'</td>\n      <td>0.0</td>\n      <td>20.0</td>\n      <td>80.0</td>\n      <td>4.0</td>\n    </tr>\n    <tr>\n      <th>2</th>\n      <td>9731.0</td>\n      <td>1978.0</td>\n      <td>73509.0</td>\n      <td>25.0</td>\n      <td>97.0</td>\n      <td>768.0</td>\n      <td>49.0</td>\n      <td>6.0</td>\n      <td>29.0</td>\n      <td>8.0</td>\n      <td>7.0</td>\n      <td>b'Master'</td>\n      <td>b'Whatever'</td>\n      <td>b'M'</td>\n      <td>1.0</td>\n      <td>52.0</td>\n      <td>48.0</td>\n      <td>3.0</td>\n    </tr>\n    <tr>\n      <th>3</th>\n      <td>9970.0</td>\n      <td>1957.0</td>\n      <td>75733.0</td>\n      <td>20.0</td>\n      <td>74.0</td>\n      <td>597.0</td>\n      <td>68.0</td>\n      <td>5.0</td>\n      <td>15.0</td>\n      <td>4.0</td>\n      <td>8.0</td>\n      <td>b'Master'</td>\n      <td>b'Whatever'</td>\n      <td>b'M'</td>\n      <td>1.0</td>\n      <td>30.0</td>\n      <td>70.0</td>\n      <td>3.0</td>\n    </tr>\n    <tr>\n      <th>4</th>\n      <td>4732.0</td>\n      <td>1960.0</td>\n      <td>84938.0</td>\n      <td>24.0</td>\n      <td>78.0</td>\n      <td>704.0</td>\n      <td>95.0</td>\n      <td>0.0</td>\n      <td>4.0</td>\n      <td>0.0</td>\n      <td>1.0</td>\n      <td>b'Master'</td>\n      <td>b'Whatever'</td>\n      <td>b'M'</td>\n      <td>1.0</td>\n      <td>56.0</td>\n      <td>44.0</td>\n      <td>3.0</td>\n    </tr>\n  </tbody>\n</table>\n</div>"
     },
     "metadata": {},
     "execution_count": 4
    }
   ],
   "source": [
    "customer_df.head()"
   ]
  },
  {
   "cell_type": "code",
   "execution_count": 5,
   "metadata": {},
   "outputs": [
    {
     "output_type": "execute_result",
     "data": {
      "text/plain": [
       "   CustID  FirstPolYear  BirthYear             EducDeg  MonthSal  GeoLivArea  \\\n",
       "0     1.0        1985.0     1982.0  b'2 - High School'    2177.0         1.0   \n",
       "1     2.0        1981.0     1995.0  b'2 - High School'     677.0         4.0   \n",
       "2     3.0        1991.0     1970.0        b'1 - Basic'    2277.0         3.0   \n",
       "3     4.0        1990.0     1981.0      b'3 - BSc/MSc'    1099.0         4.0   \n",
       "4     5.0        1986.0     1973.0      b'3 - BSc/MSc'    1763.0         4.0   \n",
       "\n",
       "   Children  CustMonVal  ClaimsRate  PremMotor  PremHousehold  PremHealth  \\\n",
       "0       1.0      380.97        0.39     375.85          79.45      146.36   \n",
       "1       1.0     -131.13        1.12      77.46         416.20      116.69   \n",
       "2       0.0      504.67        0.28     206.15         224.50      124.58   \n",
       "3       1.0      -16.99        0.99     182.48          43.35      311.17   \n",
       "4       1.0       35.23        0.90     338.62          47.80      182.59   \n",
       "\n",
       "   PremLife  PremWork  \n",
       "0     47.01     16.89  \n",
       "1    194.48    106.13  \n",
       "2     86.35     99.02  \n",
       "3     35.34     28.34  \n",
       "4     18.78     41.45  "
      ],
      "text/html": "<div>\n<style scoped>\n    .dataframe tbody tr th:only-of-type {\n        vertical-align: middle;\n    }\n\n    .dataframe tbody tr th {\n        vertical-align: top;\n    }\n\n    .dataframe thead th {\n        text-align: right;\n    }\n</style>\n<table border=\"1\" class=\"dataframe\">\n  <thead>\n    <tr style=\"text-align: right;\">\n      <th></th>\n      <th>CustID</th>\n      <th>FirstPolYear</th>\n      <th>BirthYear</th>\n      <th>EducDeg</th>\n      <th>MonthSal</th>\n      <th>GeoLivArea</th>\n      <th>Children</th>\n      <th>CustMonVal</th>\n      <th>ClaimsRate</th>\n      <th>PremMotor</th>\n      <th>PremHousehold</th>\n      <th>PremHealth</th>\n      <th>PremLife</th>\n      <th>PremWork</th>\n    </tr>\n  </thead>\n  <tbody>\n    <tr>\n      <th>0</th>\n      <td>1.0</td>\n      <td>1985.0</td>\n      <td>1982.0</td>\n      <td>b'2 - High School'</td>\n      <td>2177.0</td>\n      <td>1.0</td>\n      <td>1.0</td>\n      <td>380.97</td>\n      <td>0.39</td>\n      <td>375.85</td>\n      <td>79.45</td>\n      <td>146.36</td>\n      <td>47.01</td>\n      <td>16.89</td>\n    </tr>\n    <tr>\n      <th>1</th>\n      <td>2.0</td>\n      <td>1981.0</td>\n      <td>1995.0</td>\n      <td>b'2 - High School'</td>\n      <td>677.0</td>\n      <td>4.0</td>\n      <td>1.0</td>\n      <td>-131.13</td>\n      <td>1.12</td>\n      <td>77.46</td>\n      <td>416.20</td>\n      <td>116.69</td>\n      <td>194.48</td>\n      <td>106.13</td>\n    </tr>\n    <tr>\n      <th>2</th>\n      <td>3.0</td>\n      <td>1991.0</td>\n      <td>1970.0</td>\n      <td>b'1 - Basic'</td>\n      <td>2277.0</td>\n      <td>3.0</td>\n      <td>0.0</td>\n      <td>504.67</td>\n      <td>0.28</td>\n      <td>206.15</td>\n      <td>224.50</td>\n      <td>124.58</td>\n      <td>86.35</td>\n      <td>99.02</td>\n    </tr>\n    <tr>\n      <th>3</th>\n      <td>4.0</td>\n      <td>1990.0</td>\n      <td>1981.0</td>\n      <td>b'3 - BSc/MSc'</td>\n      <td>1099.0</td>\n      <td>4.0</td>\n      <td>1.0</td>\n      <td>-16.99</td>\n      <td>0.99</td>\n      <td>182.48</td>\n      <td>43.35</td>\n      <td>311.17</td>\n      <td>35.34</td>\n      <td>28.34</td>\n    </tr>\n    <tr>\n      <th>4</th>\n      <td>5.0</td>\n      <td>1986.0</td>\n      <td>1973.0</td>\n      <td>b'3 - BSc/MSc'</td>\n      <td>1763.0</td>\n      <td>4.0</td>\n      <td>1.0</td>\n      <td>35.23</td>\n      <td>0.90</td>\n      <td>338.62</td>\n      <td>47.80</td>\n      <td>182.59</td>\n      <td>18.78</td>\n      <td>41.45</td>\n    </tr>\n  </tbody>\n</table>\n</div>"
     },
     "metadata": {},
     "execution_count": 5
    }
   ],
   "source": [
    "value_df.head()"
   ]
  },
  {
   "cell_type": "code",
   "execution_count": 16,
   "metadata": {},
   "outputs": [
    {
     "output_type": "stream",
     "name": "stdout",
     "text": [
      "(10296, 32)\n"
     ]
    }
   ],
   "source": [
    "total = pd.merge(value_df, customer_df, how='left', left_on='CustID', right_on='Custid')\n",
    "\n",
    "print(total.shape)"
   ]
  },
  {
   "cell_type": "code",
   "execution_count": 17,
   "metadata": {},
   "outputs": [
    {
     "output_type": "execute_result",
     "data": {
      "text/plain": [
       "   CustID  FirstPolYear  BirthYear             EducDeg  MonthSal  GeoLivArea  \\\n",
       "0     1.0        1985.0     1982.0  b'2 - High School'    2177.0         1.0   \n",
       "1     2.0        1981.0     1995.0  b'2 - High School'     677.0         4.0   \n",
       "2     3.0        1991.0     1970.0        b'1 - Basic'    2277.0         3.0   \n",
       "3     4.0        1990.0     1981.0      b'3 - BSc/MSc'    1099.0         4.0   \n",
       "4     5.0        1986.0     1973.0      b'3 - BSc/MSc'    1763.0         4.0   \n",
       "\n",
       "   Children  CustMonVal  ClaimsRate  PremMotor  ...  SmallAppliances  Toys  \\\n",
       "0       1.0      380.97        0.39     375.85  ...              NaN   NaN   \n",
       "1       1.0     -131.13        1.12      77.46  ...              NaN   NaN   \n",
       "2       0.0      504.67        0.28     206.15  ...              NaN   NaN   \n",
       "3       1.0      -16.99        0.99     182.48  ...              NaN   NaN   \n",
       "4       1.0       35.23        0.90     338.62  ...              NaN   NaN   \n",
       "\n",
       "   HouseKeeping  Education  Marital_Status  Gender  Dependents  PerNetPurch  \\\n",
       "0           NaN        NaN             NaN     NaN         NaN          NaN   \n",
       "1           NaN        NaN             NaN     NaN         NaN          NaN   \n",
       "2           NaN        NaN             NaN     NaN         NaN          NaN   \n",
       "3           NaN        NaN             NaN     NaN         NaN          NaN   \n",
       "4           NaN        NaN             NaN     NaN         NaN          NaN   \n",
       "\n",
       "   PerCatPurch  Recomendation  \n",
       "0          NaN            NaN  \n",
       "1          NaN            NaN  \n",
       "2          NaN            NaN  \n",
       "3          NaN            NaN  \n",
       "4          NaN            NaN  \n",
       "\n",
       "[5 rows x 32 columns]"
      ],
      "text/html": "<div>\n<style scoped>\n    .dataframe tbody tr th:only-of-type {\n        vertical-align: middle;\n    }\n\n    .dataframe tbody tr th {\n        vertical-align: top;\n    }\n\n    .dataframe thead th {\n        text-align: right;\n    }\n</style>\n<table border=\"1\" class=\"dataframe\">\n  <thead>\n    <tr style=\"text-align: right;\">\n      <th></th>\n      <th>CustID</th>\n      <th>FirstPolYear</th>\n      <th>BirthYear</th>\n      <th>EducDeg</th>\n      <th>MonthSal</th>\n      <th>GeoLivArea</th>\n      <th>Children</th>\n      <th>CustMonVal</th>\n      <th>ClaimsRate</th>\n      <th>PremMotor</th>\n      <th>...</th>\n      <th>SmallAppliances</th>\n      <th>Toys</th>\n      <th>HouseKeeping</th>\n      <th>Education</th>\n      <th>Marital_Status</th>\n      <th>Gender</th>\n      <th>Dependents</th>\n      <th>PerNetPurch</th>\n      <th>PerCatPurch</th>\n      <th>Recomendation</th>\n    </tr>\n  </thead>\n  <tbody>\n    <tr>\n      <th>0</th>\n      <td>1.0</td>\n      <td>1985.0</td>\n      <td>1982.0</td>\n      <td>b'2 - High School'</td>\n      <td>2177.0</td>\n      <td>1.0</td>\n      <td>1.0</td>\n      <td>380.97</td>\n      <td>0.39</td>\n      <td>375.85</td>\n      <td>...</td>\n      <td>NaN</td>\n      <td>NaN</td>\n      <td>NaN</td>\n      <td>NaN</td>\n      <td>NaN</td>\n      <td>NaN</td>\n      <td>NaN</td>\n      <td>NaN</td>\n      <td>NaN</td>\n      <td>NaN</td>\n    </tr>\n    <tr>\n      <th>1</th>\n      <td>2.0</td>\n      <td>1981.0</td>\n      <td>1995.0</td>\n      <td>b'2 - High School'</td>\n      <td>677.0</td>\n      <td>4.0</td>\n      <td>1.0</td>\n      <td>-131.13</td>\n      <td>1.12</td>\n      <td>77.46</td>\n      <td>...</td>\n      <td>NaN</td>\n      <td>NaN</td>\n      <td>NaN</td>\n      <td>NaN</td>\n      <td>NaN</td>\n      <td>NaN</td>\n      <td>NaN</td>\n      <td>NaN</td>\n      <td>NaN</td>\n      <td>NaN</td>\n    </tr>\n    <tr>\n      <th>2</th>\n      <td>3.0</td>\n      <td>1991.0</td>\n      <td>1970.0</td>\n      <td>b'1 - Basic'</td>\n      <td>2277.0</td>\n      <td>3.0</td>\n      <td>0.0</td>\n      <td>504.67</td>\n      <td>0.28</td>\n      <td>206.15</td>\n      <td>...</td>\n      <td>NaN</td>\n      <td>NaN</td>\n      <td>NaN</td>\n      <td>NaN</td>\n      <td>NaN</td>\n      <td>NaN</td>\n      <td>NaN</td>\n      <td>NaN</td>\n      <td>NaN</td>\n      <td>NaN</td>\n    </tr>\n    <tr>\n      <th>3</th>\n      <td>4.0</td>\n      <td>1990.0</td>\n      <td>1981.0</td>\n      <td>b'3 - BSc/MSc'</td>\n      <td>1099.0</td>\n      <td>4.0</td>\n      <td>1.0</td>\n      <td>-16.99</td>\n      <td>0.99</td>\n      <td>182.48</td>\n      <td>...</td>\n      <td>NaN</td>\n      <td>NaN</td>\n      <td>NaN</td>\n      <td>NaN</td>\n      <td>NaN</td>\n      <td>NaN</td>\n      <td>NaN</td>\n      <td>NaN</td>\n      <td>NaN</td>\n      <td>NaN</td>\n    </tr>\n    <tr>\n      <th>4</th>\n      <td>5.0</td>\n      <td>1986.0</td>\n      <td>1973.0</td>\n      <td>b'3 - BSc/MSc'</td>\n      <td>1763.0</td>\n      <td>4.0</td>\n      <td>1.0</td>\n      <td>35.23</td>\n      <td>0.90</td>\n      <td>338.62</td>\n      <td>...</td>\n      <td>NaN</td>\n      <td>NaN</td>\n      <td>NaN</td>\n      <td>NaN</td>\n      <td>NaN</td>\n      <td>NaN</td>\n      <td>NaN</td>\n      <td>NaN</td>\n      <td>NaN</td>\n      <td>NaN</td>\n    </tr>\n  </tbody>\n</table>\n<p>5 rows × 32 columns</p>\n</div>"
     },
     "metadata": {},
     "execution_count": 17
    }
   ],
   "source": [
    "total.head()"
   ]
  },
  {
   "cell_type": "code",
   "execution_count": 18,
   "metadata": {},
   "outputs": [
    {
     "output_type": "stream",
     "name": "stdout",
     "text": [
      "CustID                0\nFirstPolYear         30\nBirthYear            17\nEducDeg              17\nMonthSal             36\nGeoLivArea            1\nChildren             21\nCustMonVal            0\nClaimsRate            0\nPremMotor            34\nPremHousehold         0\nPremHealth           43\nPremLife            104\nPremWork             86\nCustid             1925\nAge                1925\nIncome             1965\nFrq                1925\nRcn                1925\nMnt                1925\nClothes            1925\nKitchen            1925\nSmallAppliances    1925\nToys               1925\nHouseKeeping       1925\nEducation          1971\nMarital_Status     2094\nGender             1925\nDependents         2184\nPerNetPurch        1925\nPerCatPurch        1925\nRecomendation      1925\ndtype: int64\n"
     ]
    }
   ],
   "source": [
    "print(total.isna().sum())"
   ]
  },
  {
   "cell_type": "code",
   "execution_count": null,
   "metadata": {},
   "outputs": [],
   "source": []
  }
 ]
}
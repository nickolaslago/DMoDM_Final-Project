{
 "metadata": {
  "language_info": {
   "codemirror_mode": {
    "name": "ipython",
    "version": 3
   },
   "file_extension": ".py",
   "mimetype": "text/x-python",
   "name": "python",
   "nbconvert_exporter": "python",
   "pygments_lexer": "ipython3",
   "version": "3.7.6-final"
  },
  "orig_nbformat": 2,
  "kernelspec": {
   "name": "python3",
   "display_name": "Python 3"
  }
 },
 "nbformat": 4,
 "nbformat_minor": 2,
 "cells": [
  {
   "cell_type": "code",
   "execution_count": 1,
   "metadata": {},
   "outputs": [],
   "source": [
    "import pandas as pd"
   ]
  },
  {
   "cell_type": "code",
   "execution_count": 2,
   "metadata": {},
   "outputs": [
    {
     "output_type": "execute_result",
     "data": {
      "text/plain": [
       "    Custid     Age   Income   Frq   Rcn     Mnt  Clothes  Kitchen  \\\n",
       "0  10622.0  1951.0  95964.0  38.0  83.0  1603.0     69.0      1.0   \n",
       "1   3968.0  1937.0  97407.0  27.0  71.0  1139.0     52.0      0.0   \n",
       "2   9731.0  1978.0  73509.0  25.0  97.0   768.0     49.0      6.0   \n",
       "3   9970.0  1957.0  75733.0  20.0  74.0   597.0     68.0      5.0   \n",
       "4   4732.0  1960.0  84938.0  24.0  78.0   704.0     95.0      0.0   \n",
       "\n",
       "   SmallAppliances  Toys  HouseKeeping      Education Marital_Status Gender  \\\n",
       "0             28.0   1.0           1.0  b'Graduation'    b'Whatever'   b'M'   \n",
       "1             41.0   1.0           6.0      b'Master'    b'Whatever'   b'F'   \n",
       "2             29.0   8.0           7.0      b'Master'    b'Whatever'   b'M'   \n",
       "3             15.0   4.0           8.0      b'Master'    b'Whatever'   b'M'   \n",
       "4              4.0   0.0           1.0      b'Master'    b'Whatever'   b'M'   \n",
       "\n",
       "   Dependents  PerNetPurch  PerCatPurch  Recomendation  \n",
       "0         1.0         34.0         66.0            5.0  \n",
       "1         0.0         20.0         80.0            4.0  \n",
       "2         1.0         52.0         48.0            3.0  \n",
       "3         1.0         30.0         70.0            3.0  \n",
       "4         1.0         56.0         44.0            3.0  "
      ],
      "text/html": "<div>\n<style scoped>\n    .dataframe tbody tr th:only-of-type {\n        vertical-align: middle;\n    }\n\n    .dataframe tbody tr th {\n        vertical-align: top;\n    }\n\n    .dataframe thead th {\n        text-align: right;\n    }\n</style>\n<table border=\"1\" class=\"dataframe\">\n  <thead>\n    <tr style=\"text-align: right;\">\n      <th></th>\n      <th>Custid</th>\n      <th>Age</th>\n      <th>Income</th>\n      <th>Frq</th>\n      <th>Rcn</th>\n      <th>Mnt</th>\n      <th>Clothes</th>\n      <th>Kitchen</th>\n      <th>SmallAppliances</th>\n      <th>Toys</th>\n      <th>HouseKeeping</th>\n      <th>Education</th>\n      <th>Marital_Status</th>\n      <th>Gender</th>\n      <th>Dependents</th>\n      <th>PerNetPurch</th>\n      <th>PerCatPurch</th>\n      <th>Recomendation</th>\n    </tr>\n  </thead>\n  <tbody>\n    <tr>\n      <th>0</th>\n      <td>10622.0</td>\n      <td>1951.0</td>\n      <td>95964.0</td>\n      <td>38.0</td>\n      <td>83.0</td>\n      <td>1603.0</td>\n      <td>69.0</td>\n      <td>1.0</td>\n      <td>28.0</td>\n      <td>1.0</td>\n      <td>1.0</td>\n      <td>b'Graduation'</td>\n      <td>b'Whatever'</td>\n      <td>b'M'</td>\n      <td>1.0</td>\n      <td>34.0</td>\n      <td>66.0</td>\n      <td>5.0</td>\n    </tr>\n    <tr>\n      <th>1</th>\n      <td>3968.0</td>\n      <td>1937.0</td>\n      <td>97407.0</td>\n      <td>27.0</td>\n      <td>71.0</td>\n      <td>1139.0</td>\n      <td>52.0</td>\n      <td>0.0</td>\n      <td>41.0</td>\n      <td>1.0</td>\n      <td>6.0</td>\n      <td>b'Master'</td>\n      <td>b'Whatever'</td>\n      <td>b'F'</td>\n      <td>0.0</td>\n      <td>20.0</td>\n      <td>80.0</td>\n      <td>4.0</td>\n    </tr>\n    <tr>\n      <th>2</th>\n      <td>9731.0</td>\n      <td>1978.0</td>\n      <td>73509.0</td>\n      <td>25.0</td>\n      <td>97.0</td>\n      <td>768.0</td>\n      <td>49.0</td>\n      <td>6.0</td>\n      <td>29.0</td>\n      <td>8.0</td>\n      <td>7.0</td>\n      <td>b'Master'</td>\n      <td>b'Whatever'</td>\n      <td>b'M'</td>\n      <td>1.0</td>\n      <td>52.0</td>\n      <td>48.0</td>\n      <td>3.0</td>\n    </tr>\n    <tr>\n      <th>3</th>\n      <td>9970.0</td>\n      <td>1957.0</td>\n      <td>75733.0</td>\n      <td>20.0</td>\n      <td>74.0</td>\n      <td>597.0</td>\n      <td>68.0</td>\n      <td>5.0</td>\n      <td>15.0</td>\n      <td>4.0</td>\n      <td>8.0</td>\n      <td>b'Master'</td>\n      <td>b'Whatever'</td>\n      <td>b'M'</td>\n      <td>1.0</td>\n      <td>30.0</td>\n      <td>70.0</td>\n      <td>3.0</td>\n    </tr>\n    <tr>\n      <th>4</th>\n      <td>4732.0</td>\n      <td>1960.0</td>\n      <td>84938.0</td>\n      <td>24.0</td>\n      <td>78.0</td>\n      <td>704.0</td>\n      <td>95.0</td>\n      <td>0.0</td>\n      <td>4.0</td>\n      <td>0.0</td>\n      <td>1.0</td>\n      <td>b'Master'</td>\n      <td>b'Whatever'</td>\n      <td>b'M'</td>\n      <td>1.0</td>\n      <td>56.0</td>\n      <td>44.0</td>\n      <td>3.0</td>\n    </tr>\n  </tbody>\n</table>\n</div>"
     },
     "metadata": {},
     "execution_count": 2
    }
   ],
   "source": [
    "df = pd.read_sas('Customer_Segmentation_Data.sas7bdat')\n",
    "\n",
    "df.head()"
   ]
  },
  {
   "cell_type": "code",
   "execution_count": 3,
   "metadata": {},
   "outputs": [
    {
     "output_type": "execute_result",
     "data": {
      "text/plain": [
       "(9000, 18)"
      ]
     },
     "metadata": {},
     "execution_count": 3
    }
   ],
   "source": [
    "df.shape"
   ]
  },
  {
   "cell_type": "code",
   "execution_count": 5,
   "metadata": {},
   "outputs": [
    {
     "output_type": "stream",
     "name": "stdout",
     "text": [
      "<class 'pandas.core.frame.DataFrame'>\nRangeIndex: 9000 entries, 0 to 8999\nData columns (total 18 columns):\n #   Column           Non-Null Count  Dtype  \n---  ------           --------------  -----  \n 0   Custid           9000 non-null   float64\n 1   Age              9000 non-null   float64\n 2   Income           8954 non-null   float64\n 3   Frq              9000 non-null   float64\n 4   Rcn              9000 non-null   float64\n 5   Mnt              9000 non-null   float64\n 6   Clothes          9000 non-null   float64\n 7   Kitchen          9000 non-null   float64\n 8   SmallAppliances  9000 non-null   float64\n 9   Toys             9000 non-null   float64\n 10  HouseKeeping     9000 non-null   float64\n 11  Education        8953 non-null   object \n 12  Marital_Status   8823 non-null   object \n 13  Gender           9000 non-null   object \n 14  Dependents       8718 non-null   float64\n 15  PerNetPurch      9000 non-null   float64\n 16  PerCatPurch      9000 non-null   float64\n 17  Recomendation    9000 non-null   float64\ndtypes: float64(15), object(3)\nmemory usage: 1.2+ MB\n"
     ]
    }
   ],
   "source": [
    "df.info()"
   ]
  },
  {
   "cell_type": "code",
   "execution_count": null,
   "metadata": {},
   "outputs": [],
   "source": []
  }
 ]
}